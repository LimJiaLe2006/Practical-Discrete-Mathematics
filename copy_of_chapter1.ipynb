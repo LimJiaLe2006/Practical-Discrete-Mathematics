{
  "cells": [
    {
      "cell_type": "markdown",
      "metadata": {
        "id": "view-in-github",
        "colab_type": "text"
      },
      "source": [
        "<a href=\"https://colab.research.google.com/github/LimJiaLe2006/Practical-Discrete-Mathematics/blob/master/copy_of_chapter1.ipynb\" target=\"_parent\"><img src=\"https://colab.research.google.com/assets/colab-badge.svg\" alt=\"Open In Colab\"/></a>"
      ]
    },
    {
      "cell_type": "markdown",
      "metadata": {
        "id": "oj2OR0CixfUZ"
      },
      "source": [
        "# Chapter 1 - Introduction: Key Concepts, Notation, Set Theory, Relations, and Functions\n",
        "\n",
        "This notebook contains code accompanying Chapter 1 Introduction: Key Concepts, Notation, Set Theory, Relations, and Functions in *Practical Discrete Mathematics* by Ryan T. White and Archana Tikayat Ray\n",
        "\n",
        "## Functions and Relations\n",
        "\n",
        "### The `sort()` function"
      ]
    },
    {
      "cell_type": "code",
      "source": [],
      "metadata": {
        "id": "zP-lPkcOzyGM"
      },
      "execution_count": null,
      "outputs": []
    },
    {
      "cell_type": "code",
      "source": [],
      "metadata": {
        "id": "TiEN6_wWzy14"
      },
      "execution_count": null,
      "outputs": []
    },
    {
      "cell_type": "code",
      "source": [],
      "metadata": {
        "id": "zoQ2PrFLzzH3"
      },
      "execution_count": null,
      "outputs": []
    },
    {
      "cell_type": "code",
      "execution_count": null,
      "metadata": {
        "id": "kJu8yHp0xfUb",
        "outputId": "3c032697-5b6e-40a5-cd9f-38df00d3f851",
        "colab": {
          "base_uri": "https://localhost:8080/"
        }
      },
      "outputs": [
        {
          "output_type": "stream",
          "name": "stdout",
          "text": [
            "[1, 2, 3, 4, 5, 8, 9, 12]\n",
            "['Brandon', 'Elise', 'Eugene', 'Kumar', 'Wyatt']\n"
          ]
        }
      ],
      "source": [
        "numbers = [3, 1, 4, 12, 8, 5, 2, 9]\n",
        "names = ['Wyatt', 'Brandon', 'Kumar', 'Eugene', 'Elise']\n",
        "\n",
        "# Apply the sort() function to the lists\n",
        "numbers.sort()\n",
        "names.sort()\n",
        "\n",
        "# Display the output\n",
        "print(numbers)\n",
        "print(names)"
      ]
    },
    {
      "cell_type": "markdown",
      "metadata": {
        "id": "VmpKUKyKxfUc"
      },
      "source": [
        "### The `shuffle()` function"
      ]
    },
    {
      "cell_type": "code",
      "execution_count": null,
      "metadata": {
        "id": "eRpQrlbwxfUc",
        "outputId": "5db9666f-66a6-4738-ea3d-c7ea66f1c4d1",
        "colab": {
          "base_uri": "https://localhost:8080/"
        }
      },
      "outputs": [
        {
          "output_type": "stream",
          "name": "stdout",
          "text": [
            "[12, 2, 1, 5, 9, 3, 8, 4]\n",
            "[4, 2, 8, 3, 1, 12, 5, 9]\n",
            "[4, 5, 1, 9, 3, 8, 12, 2]\n",
            "[9, 12, 2, 8, 5, 3, 4, 1]\n",
            "[9, 8, 4, 3, 12, 1, 5, 2]\n"
          ]
        }
      ],
      "source": [
        "import random\n",
        "\n",
        "# Set a random seed so the code is reproducible\n",
        "random.seed(1)\n",
        "\n",
        "# Run the random.shuffle() function 5 times and display the outputs\n",
        "for i in range(0,5):\n",
        "    numbers = [3, 1, 4, 12, 8, 5, 2, 9]\n",
        "    random.shuffle(numbers)\n",
        "    print(numbers)"
      ]
    },
    {
      "cell_type": "code",
      "source": [
        "def generate_truth_table(expression):\n",
        "  \"\"\"Generates a truth table for a propositional logic expression.\n",
        "\n",
        "  Args:\n",
        "    expression: The propositional logic expression as a string.\n",
        "\n",
        "  Returns:\n",
        "    A list of lists representing the truth table.\n",
        "  \"\"\"\n",
        "\n",
        "  # Define the variables in the expression\n",
        "  variables = set(c for c in expression if c.isalpha())\n",
        "\n",
        "  # Create a list of all possible truth value combinations for the variables\n",
        "  truth_values = [[(i >> j) & 1 for j in range(len(variables))]\n",
        "                  for i in range(2 ** len(variables))]\n",
        "\n",
        "  # Evaluate the expression for each truth value combination\n",
        "  table = []\n",
        "  for values in truth_values:\n",
        "    # Create a dictionary mapping variables to truth values\n",
        "    variable_values = dict(zip(variables, values))\n",
        "\n",
        "    # Evaluate the expression using the variable values\n",
        "    result = eval(expression, variable_values)\n",
        "\n",
        "    # Add the truth values and the result to the table\n",
        "    table.append(values + [result])\n",
        "\n",
        "  return table\n",
        "\n",
        "# Get the propositional logic expression from the user\n",
        "expression = input(\"Enter a propositional logic expression (e.g., 'p and q'): \")\n",
        "\n",
        "# Generate the truth table\n",
        "truth_table = generate_truth_table(expression)\n",
        "\n",
        "# Print the truth table\n",
        "for row in truth_table:\n",
        "  print(row)"
      ],
      "metadata": {
        "id": "pSjz_8A7z7BK",
        "outputId": "cff82392-06c8-4f91-bdd9-42b9c3b1bc7b",
        "colab": {
          "base_uri": "https://localhost:8080/"
        }
      },
      "execution_count": 2,
      "outputs": [
        {
          "output_type": "stream",
          "name": "stdout",
          "text": [
            "Enter a propositional logic expression (e.g., 'p and q'): 'p and q'\n",
            "[0, 0, 0, 0, 0, 'p and q']\n",
            "[1, 0, 0, 0, 0, 'p and q']\n",
            "[0, 1, 0, 0, 0, 'p and q']\n",
            "[1, 1, 0, 0, 0, 'p and q']\n",
            "[0, 0, 1, 0, 0, 'p and q']\n",
            "[1, 0, 1, 0, 0, 'p and q']\n",
            "[0, 1, 1, 0, 0, 'p and q']\n",
            "[1, 1, 1, 0, 0, 'p and q']\n",
            "[0, 0, 0, 1, 0, 'p and q']\n",
            "[1, 0, 0, 1, 0, 'p and q']\n",
            "[0, 1, 0, 1, 0, 'p and q']\n",
            "[1, 1, 0, 1, 0, 'p and q']\n",
            "[0, 0, 1, 1, 0, 'p and q']\n",
            "[1, 0, 1, 1, 0, 'p and q']\n",
            "[0, 1, 1, 1, 0, 'p and q']\n",
            "[1, 1, 1, 1, 0, 'p and q']\n",
            "[0, 0, 0, 0, 1, 'p and q']\n",
            "[1, 0, 0, 0, 1, 'p and q']\n",
            "[0, 1, 0, 0, 1, 'p and q']\n",
            "[1, 1, 0, 0, 1, 'p and q']\n",
            "[0, 0, 1, 0, 1, 'p and q']\n",
            "[1, 0, 1, 0, 1, 'p and q']\n",
            "[0, 1, 1, 0, 1, 'p and q']\n",
            "[1, 1, 1, 0, 1, 'p and q']\n",
            "[0, 0, 0, 1, 1, 'p and q']\n",
            "[1, 0, 0, 1, 1, 'p and q']\n",
            "[0, 1, 0, 1, 1, 'p and q']\n",
            "[1, 1, 0, 1, 1, 'p and q']\n",
            "[0, 0, 1, 1, 1, 'p and q']\n",
            "[1, 0, 1, 1, 1, 'p and q']\n",
            "[0, 1, 1, 1, 1, 'p and q']\n",
            "[1, 1, 1, 1, 1, 'p and q']\n"
          ]
        }
      ]
    },
    {
      "cell_type": "markdown",
      "source": [],
      "metadata": {
        "id": "06TmqR76ydnw"
      }
    },
    {
      "cell_type": "code",
      "source": [
        "def generate_truth_table():\n",
        "  \"\"\"Generates a truth table for 'p and q'.\"\"\"\n",
        "  print(\"p  q  p and q\")\n",
        "  print(\"-------------\")\n",
        "  for p in [True, False]:\n",
        "    for q in [True, False]:\n",
        "      result = p and q\n",
        "      print(f\"{p!s:^3}{q!s:^3}{result!s:^9}\")\n",
        "\n",
        "generate_truth_table()"
      ],
      "metadata": {
        "id": "kY8KwCuq1X-0",
        "outputId": "fc6b6794-56aa-49c8-deb0-537b4eaa17ae",
        "colab": {
          "base_uri": "https://localhost:8080/"
        }
      },
      "execution_count": 3,
      "outputs": [
        {
          "output_type": "stream",
          "name": "stdout",
          "text": [
            "p  q  p and q\n",
            "-------------\n",
            "TrueTrue  True   \n",
            "TrueFalse  False  \n",
            "FalseTrue  False  \n",
            "FalseFalse  False  \n"
          ]
        }
      ]
    },
    {
      "cell_type": "code",
      "source": [
        "def generate_truth_table():\n",
        "  \"\"\"Generates a truth table for 'p and q' in vertical form.\"\"\"\n",
        "  print(\"p | q | p and q\")\n",
        "  print(\"---|---|--------\")\n",
        "  for p in [True, False]:\n",
        "    for q in [True, False]:\n",
        "      result = p and q\n",
        "      print(f\"{p!s:^1} | {q!s:^1} | {result!s:^6}\")\n",
        "\n",
        "generate_truth_table()"
      ],
      "metadata": {
        "id": "enBdtCk41lKM",
        "outputId": "dae25132-31e1-43cc-e75d-668669ed8cf2",
        "colab": {
          "base_uri": "https://localhost:8080/"
        }
      },
      "execution_count": 4,
      "outputs": [
        {
          "output_type": "stream",
          "name": "stdout",
          "text": [
            "p | q | p and q\n",
            "---|---|--------\n",
            "True | True |  True \n",
            "True | False | False \n",
            "False | True | False \n",
            "False | False | False \n"
          ]
        }
      ]
    }
  ],
  "metadata": {
    "kernelspec": {
      "display_name": "Python 3",
      "name": "python3"
    },
    "language_info": {
      "name": "python"
    },
    "colab": {
      "provenance": [],
      "include_colab_link": true
    }
  },
  "nbformat": 4,
  "nbformat_minor": 0
}